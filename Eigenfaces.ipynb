{
 "cells": [
  {
   "cell_type": "code",
   "execution_count": 1,
   "metadata": {
    "collapsed": true
   },
   "outputs": [],
   "source": [
    "import numpy as np\n",
    "import matplotlib.pyplot as plt\n",
    "from skimage import io\n",
    "from CASPEALR1 import CAS_utils\n",
    "cas = CAS_utils('C:\\\\Users\\\\吴宇翔\\\\Desktop\\\\CAS-PEAL-R1')"
   ]
  },
  {
   "cell_type": "code",
   "execution_count": 2,
   "metadata": {},
   "outputs": [
    {
     "name": "stderr",
     "output_type": "stream",
     "text": [
      "C:\\ProgramData\\Anaconda3\\lib\\site-packages\\skimage\\external\\tifffile\\tifffile.py:2611: RuntimeWarning: py_decodelzw encountered unexpected end of stream\n",
      "  strip = decompress(strip)\n"
     ]
    }
   ],
   "source": [
    "###########################################################\n",
    "# 模型：训练集   注册：训练集   探测：训练集\n",
    "image_paths = cas.load_training_set_image_name()\n",
    "images = []\n",
    "sum_image = np.zeros((480, 360))\n",
    "i = 0\n",
    "for PATH in image_paths:\n",
    "    image = io.imread('C:\\\\Users\\\\吴宇翔\\\\Desktop\\\\CAS-PEAL-R1\\\\' + PATH)\n",
    "    # 当i循环到3时，存储该人4幅图像的平均图像\n",
    "    if i is 3:\n",
    "        i = 0\n",
    "        sum_image += image\n",
    "        images.append(sum_image / 4)\n",
    "        sum_image = np.zeros((480, 360))\n",
    "        \n",
    "    else:\n",
    "        i += 1\n",
    "        sum_image += image\n",
    "images = np.array(images)\n",
    "# step.1 张量化 --->  (300，172800) (N, D)\n",
    "N, D = 300, 480*360\n",
    "images = images.reshape((N, -1))\n",
    "\n",
    "# step.2 去中心化\n",
    "images_centered = images - np.mean(images, axis=0)\n",
    "\n",
    "assert np.allclose(images_centered.mean(), 0.0)\n",
    "\n",
    "# step.3 求协方差矩阵(D, D)的特征值   ---> 根据特征值找出方差最大的\n",
    "[eigenvalues, eigenvectors] = np.linalg.eig(np.dot(images_centered, images_centered.T) / N)\n",
    "seq_values = np.argsort(-eigenvalues)\n",
    "image_centered_eigenvalues = np.array([eigenvalues[seq_values[i]] for i in seq_values])  # [300， ]\n",
    "image_centered_eigenvectors = np.array([eigenvectors[:, seq_values[i]] for i in seq_values]) # [300, 300]\n",
    "eigenfaces = np.dot(images_centered.T, image_centered_eigenvectors) # [172800, 300]\n",
    "for i in range(N):\n",
    "    eigenfaces[:, i] = eigenfaces[:, i] / np.linalg.norm(eigenfaces[:, 1])\n",
    "\n",
    "assert image_centered_eigenvalues.shape == (N, )\n",
    "assert eigenfaces.shape == (D, N)"
   ]
  },
  {
   "cell_type": "code",
   "execution_count": 5,
   "metadata": {},
   "outputs": [
    {
     "data": {
      "text/plain": [
       "(172800, 50)"
      ]
     },
     "execution_count": 5,
     "metadata": {},
     "output_type": "execute_result"
    }
   ],
   "source": [
    "eigenfaces[:, :n_components].shape"
   ]
  },
  
  {
   "cell_type": "code",
   "execution_count": 3,
   "metadata": {},
   "outputs": [
    {
     "data": {
      "image/png": "[encoded data removed]",
      "text/plain": [
       "<matplotlib.figure.Figure at 0x220e728ff60>"
      ]
     },
     "metadata": {},
     "output_type": "display_data"
    }
   ],
   "source": [
    "plt.plot(image_centered_eigenvalues)\n",
    "plt.show()"
   ]
  },
  {
   "cell_type": "code",
   "execution_count": 3,
   "metadata": {},
   "outputs": [
    {
     "name": "stderr",
     "output_type": "stream",
     "text": [
      "C:\\ProgramData\\Anaconda3\\lib\\site-packages\\skimage\\external\\tifffile\\tifffile.py:2611: RuntimeWarning: py_decodelzw encountered unexpected end of stream\n",
      "  strip = decompress(strip)\n"
     ]
    }
   ],
   "source": [
    "\n",
    "''' step.2  ==>  作注册人脸矩阵\n",
    "    基本配置：图像矩阵\n",
    "             以及对应的标签数组\n",
    "'''\n",
    "gallery_paths = cas.load_gallery_image_name()\n",
    "gallery_images = []\n",
    "gallery_labels = []\n",
    "for PATH in gallery_paths:\n",
    "    image = io.imread('C:\\\\Users\\\\吴宇翔\\\\Desktop\\\\CAS-PEAL-R1\\\\' + PATH)\n",
    "    gallery_images.append(image)\n",
    "    gallery_labels.append(int(PATH.split('_')[1]))\n",
    "gallery_images = np.array(gallery_images)\n",
    "gallery_images = gallery_images.reshape((gallery_images.shape[0], -1))\n",
    "gallery_labels = np.array(gallery_labels)\n",
    "\n",
    "\"\"\"\n",
    "    降维：\n",
    "    1. 去中心化\n",
    "    2. 和(D, n_components)的eigenfaces矩阵相乘得到投影坐标矩阵\n",
    "\"\"\"\n",
    "# 根据上面的奇异值曲线图试验多少个特征向量是重构的最佳结果\n",
    "n_components = 50\n",
    "#   1. first substract the mean\n",
    "gallery_images_mean = np.mean(gallery_images, axis=0)\n",
    "gallery_images_centered = gallery_images - gallery_images_mean\n",
    "#   2. then project onto a subspace of dimension `n_components` using `self.W_pca`\n",
    "gallery_images_centered_proj = np.dot(gallery_images_centered, eigenfaces[:, :n_components])\n",
    "assert gallery_images_centered_proj.shape == (gallery_images.shape[0], n_components)"
   ]
  },
  {
   "cell_type": "code",
   "execution_count": 5,
   "metadata": {},
   "outputs": [
    {
     "name": "stderr",
     "output_type": "stream",
     "text": [
      "C:\\ProgramData\\Anaconda3\\lib\\site-packages\\skimage\\external\\tifffile\\tifffile.py:2611: RuntimeWarning: py_decodelzw encountered unexpected end of stream\n",
      "  strip = decompress(strip)\n"
     ]
    },
    {
     "name": "stdout",
     "output_type": "stream",
     "text": [
      "------------------Correct:   13\n",
      "------------------Sum:   2285\n",
      "------------------Precision:   0.0056892778993435445\n"
     ]
    }
   ],
   "source": [
    "'''\n",
    "    3.1 ==> Probe of Accessory\n",
    "'''\n",
    "\n",
    "probe_Accessory_paths = cas.load_Probe_Sets_image_name('Accessory')\n",
    "probe_Accessory_images = []\n",
    "probe_Accessory_labels = []\n",
    "for PATH in probe_Accessory_paths:\n",
    "    image = io.imread('C:\\\\Users\\\\吴宇翔\\\\Desktop\\\\CAS-PEAL-R1\\\\' + PATH)\n",
    "    probe_Accessory_images.append(image)\n",
    "    probe_Accessory_labels.append(int(PATH.split('_')[1]))\n",
    "probe_Accessory_images = np.array(probe_Accessory_images)\n",
    "probe_Accessory_images = probe_Accessory_images.reshape((probe_Accessory_images.shape[0], -1))\n",
    "probe_Accessory_labels = np.array(probe_Accessory_labels)\n",
    "\n",
    "# 取前50个特征向量\n",
    "n_components = 50\n",
    "#   1. first substract the mean\n",
    "probe_Accessory_images_mean = np.mean(probe_Accessory_images, axis=0)\n",
    "probe_Accessory_images_centered = probe_Accessory_images - probe_Accessory_images_mean\n",
    "#   2. then project onto a subspace of dimension `n_components` using `self.W_pca`\n",
    "probe_Accessory_images_centered_proj = np.dot(probe_Accessory_images_centered, eigenfaces[:, :n_components])\n",
    "assert probe_Accessory_images_centered_proj.shape == (probe_Accessory_images.shape[0], n_components)\n",
    "\n",
    "# Calculate Precision\n",
    "dists = np.zeros((probe_Accessory_images_centered_proj.shape[0], gallery_images_centered_proj.shape[0]))\n",
    "dists += np.sum(probe_Accessory_images_centered_proj * probe_Accessory_images_centered_proj, axis=1, keepdims=True)\n",
    "dists += np.sum((gallery_images_centered_proj * gallery_images_centered_proj).T, axis=0, keepdims=True)\n",
    "dists -= 2 * np.dot(probe_Accessory_images_centered_proj, gallery_images_centered_proj.T)\n",
    "# 根据距离矩阵选出最小的距离\n",
    "closest_prediciton = np.zeros((probe_Accessory_images_centered_proj.shape[0], ))\n",
    "right_prediciton = 0\n",
    "for i in range(dists.shape[0]):\n",
    "    closest_prediciton[i] = gallery_labels[np.argmin(dists[i])]\n",
    "    if closest_prediciton[i] == probe_Accessory_labels[i]:\n",
    "        right_prediciton += 1\n",
    "print(\"------------------Correct:  \", right_prediciton)\n",
    "print(\"------------------Sum:  \", dists.shape[0])\n",
    "print(\"------------------Precision:  \", right_prediciton / dists.shape[0])"
   ]
  },
  {
   "cell_type": "code",
   "execution_count": 7,
   "metadata": {},
   "outputs": [
    {
     "name": "stdout",
     "output_type": "stream",
     "text": [
      "------------------Correct:   696\n",
      "------------------Sum:   1570\n",
      "------------------Precision:   0.44331210191082804\n"
     ]
    }
   ],
   "source": [
    "'''\n",
    "    3.2 ==> Probe of Expression\n",
    "'''\n",
    "\n",
    "probe_Aging_paths = cas.load_Probe_Sets_image_name('Expression')\n",
    "probe_Aging_images = []\n",
    "probe_Aging_labels = []\n",
    "for PATH in probe_Aging_paths:\n",
    "    image = io.imread('C:\\\\Users\\\\吴宇翔\\\\Desktop\\\\CAS-PEAL-R1\\\\' + PATH)\n",
    "    probe_Aging_images.append(image)\n",
    "    probe_Aging_labels.append(int(PATH.split('_')[1]))\n",
    "probe_Aging_images = np.array(probe_Aging_images)\n",
    "probe_Aging_images = probe_Aging_images.reshape((probe_Aging_images.shape[0], -1))\n",
    "probe_Aging_labels = np.array(probe_Aging_labels)\n",
    "\n",
    "# 取前50个特征向量\n",
    "n_components = 50\n",
    "#   1. first substract the mean\n",
    "probe_Aging_images_mean = np.mean(probe_Aging_images, axis=0)\n",
    "probe_Aging_images_centered = probe_Aging_images - probe_Aging_images_mean\n",
    "#   2. then project onto a subspace of dimension `n_components` using `self.W_pca`\n",
    "probe_Aging_images_centered_proj = np.dot(probe_Aging_images_centered, eigenfaces[:, :n_components])\n",
    "assert probe_Aging_images_centered_proj.shape == (probe_Aging_images.shape[0], n_components)\n",
    "\n",
    "# Calculate Precision\n",
    "dists = np.zeros((probe_Aging_images_centered_proj.shape[0], gallery_images_centered_proj.shape[0]))\n",
    "dists += np.sum(probe_Aging_images_centered_proj * probe_Aging_images_centered_proj, axis=1, keepdims=True)\n",
    "dists += np.sum((gallery_images_centered_proj * gallery_images_centered_proj).T, axis=0, keepdims=True)\n",
    "dists -= 2 * np.dot(probe_Aging_images_centered_proj, gallery_images_centered_proj.T)\n",
    "# 根据距离矩阵选出最小的距离\n",
    "closest_prediciton = np.zeros((probe_Aging_images_centered_proj.shape[0], ))\n",
    "right_prediciton = 0\n",
    "for i in range(dists.shape[0]):\n",
    "    closest_prediciton[i] = gallery_labels[np.argmin(dists[i])]\n",
    "    if closest_prediciton[i] == probe_Aging_labels[i]:\n",
    "        right_prediciton += 1\n",
    "print(\"------------------Correct:  \", right_prediciton)\n",
    "print(\"------------------Sum:  \", dists.shape[0])\n",
    "print(\"------------------Precision:  \", right_prediciton / dists.shape[0])"
   ]
  },
  {
   "cell_type": "code",
   "execution_count": 9,
   "metadata": {},
   "outputs": [
    {
     "name": "stdout",
     "output_type": "stream",
     "text": [
      "------------------Correct:   6\n",
      "------------------Sum:   552\n",
      "------------------Precision:   0.010869565217391304\n"
     ]
    }
   ],
   "source": [
    "'''\n",
    "    3.3 ==> Probe of Background\n",
    "'''\n",
    "\n",
    "probe_Background_paths = cas.load_Probe_Sets_image_name('Background')\n",
    "probe_Background_images = []\n",
    "probe_Background_labels = []\n",
    "for PATH in probe_Background_paths:\n",
    "    image = io.imread('C:\\\\Users\\\\吴宇翔\\\\Desktop\\\\CAS-PEAL-R1\\\\' + PATH)\n",
    "    probe_Background_images.append(image)\n",
    "    probe_Background_labels.append(int(PATH.split('_')[1]))\n",
    "probe_Background_images = np.array(probe_Background_images)\n",
    "probe_Background_images = probe_Background_images.reshape((probe_Background_images.shape[0], -1))\n",
    "probe_Background_labels = np.array(probe_Background_labels)\n",
    "\n",
    "# 取前50个特征向量\n",
    "n_components = 50\n",
    "#   1. first substract the mean\n",
    "probe_Background_images_mean = np.mean(probe_Background_images, axis=0)\n",
    "probe_Background_images_centered = probe_Background_images - probe_Background_images_mean\n",
    "#   2. then project onto a subspace of dimension `n_components` using `self.W_pca`\n",
    "probe_Background_images_centered_proj = np.dot(probe_Background_images_centered, eigenfaces[:, :n_components])\n",
    "assert probe_Background_images_centered_proj.shape == (probe_Background_images.shape[0], n_components)\n",
    "\n",
    "# Calculate Precision\n",
    "dists = np.zeros((probe_Background_images_centered_proj.shape[0], gallery_images_centered_proj.shape[0]))\n",
    "dists += np.sum(probe_Background_images_centered_proj * probe_Background_images_centered_proj, axis=1, keepdims=True)\n",
    "dists += np.sum((gallery_images_centered_proj * gallery_images_centered_proj).T, axis=0, keepdims=True)\n",
    "dists -= 2 * np.dot(probe_Background_images_centered_proj, gallery_images_centered_proj.T)\n",
    "# 根据距离矩阵选出最小的距离\n",
    "closest_prediciton = np.zeros((probe_Background_images_centered_proj.shape[0], ))\n",
    "right_prediciton = 0\n",
    "for i in range(dists.shape[0]):\n",
    "    closest_prediciton[i] = gallery_labels[np.argmin(dists[i])]\n",
    "    if closest_prediciton[i] == probe_Background_labels[i]:\n",
    "        right_prediciton += 1\n",
    "print(\"------------------Correct:  \", right_prediciton)\n",
    "print(\"------------------Sum:  \", dists.shape[0])\n",
    "print(\"------------------Precision:  \", right_prediciton / dists.shape[0])"
   ]
  },
  {
   "cell_type": "code",
   "execution_count": 10,
   "metadata": {},
   "outputs": [
    {
     "name": "stdout",
     "output_type": "stream",
     "text": [
      "------------------Correct:   0\n",
      "------------------Sum:   275\n",
      "------------------Precision:   0.0\n"
     ]
    }
   ],
   "source": [
    "'''\n",
    "    3.4 ==> Probe of Distance\n",
    "'''\n",
    "\n",
    "probe_Distance_paths = cas.load_Probe_Sets_image_name('Distance')\n",
    "probe_Distance_images = []\n",
    "probe_Distance_labels = []\n",
    "for PATH in probe_Distance_paths:\n",
    "    image = io.imread('C:\\\\Users\\\\吴宇翔\\\\Desktop\\\\CAS-PEAL-R1\\\\' + PATH)\n",
    "    probe_Distance_images.append(image)\n",
    "    probe_Distance_labels.append(int(PATH.split('_')[1]))\n",
    "probe_Distance_images = np.array(probe_Distance_images)\n",
    "probe_Distance_images = probe_Distance_images.reshape((probe_Distance_images.shape[0], -1))\n",
    "probe_Distance_labels = np.array(probe_Distance_labels)\n",
    "\n",
    "# 取前50个特征向量\n",
    "n_components = 50\n",
    "#   1. first substract the mean\n",
    "probe_Distance_images_mean = np.mean(probe_Distance_images, axis=0)\n",
    "probe_Distance_images_centered = probe_Distance_images - probe_Distance_images_mean\n",
    "#   2. then project onto a subspace of dimension `n_components` using `self.W_pca`\n",
    "probe_Distance_images_centered_proj = np.dot(probe_Distance_images_centered, eigenfaces[:, :n_components])\n",
    "assert probe_Distance_images_centered_proj.shape == (probe_Distance_images.shape[0], n_components)\n",
    "\n",
    "# Calculate Precision\n",
    "dists = np.zeros((probe_Distance_images_centered_proj.shape[0], gallery_images_centered_proj.shape[0]))\n",
    "dists += np.sum(probe_Distance_images_centered_proj * probe_Distance_images_centered_proj, axis=1, keepdims=True)\n",
    "dists += np.sum((gallery_images_centered_proj * gallery_images_centered_proj).T, axis=0, keepdims=True)\n",
    "dists -= 2 * np.dot(probe_Distance_images_centered_proj, gallery_images_centered_proj.T)\n",
    "# 根据距离矩阵选出最小的距离\n",
    "closest_prediciton = np.zeros((probe_Distance_images_centered_proj.shape[0], ))\n",
    "right_prediciton = 0\n",
    "for i in range(dists.shape[0]):\n",
    "    closest_prediciton[i] = gallery_labels[np.argmin(dists[i])]\n",
    "    if closest_prediciton[i] == probe_Distance_labels[i]:\n",
    "        right_prediciton += 1\n",
    "print(\"------------------Correct:  \", right_prediciton)\n",
    "print(\"------------------Sum:  \", dists.shape[0])\n",
    "print(\"------------------Precision:  \", right_prediciton / dists.shape[0])"
   ]
  },
  {
   "cell_type": "code",
   "execution_count": 5,
   "metadata": {},
   "outputs": [
    {
     "name": "stdout",
     "output_type": "stream",
     "text": [
      "------------------Correct:   696\n",
      "------------------Sum:   1570\n",
      "------------------Precision:   0.44331210191082804\n"
     ]
    }
   ],
   "source": [
    "'''\n",
    "    3.5 ==> Probe of Expression\n",
    "'''\n",
    "\n",
    "probe_Expression_paths = cas.load_Probe_Sets_image_name('Expression')\n",
    "probe_Expression_images = []\n",
    "probe_Expression_labels = []\n",
    "for PATH in probe_Expression_paths:\n",
    "    image = io.imread('C:\\\\Users\\\\吴宇翔\\\\Desktop\\\\CAS-PEAL-R1\\\\' + PATH)\n",
    "    probe_Expression_images.append(image)\n",
    "    probe_Expression_labels.append(int(PATH.split('_')[1]))\n",
    "probe_Expression_images = np.array(probe_Expression_images)\n",
    "probe_Expression_images = probe_Expression_images.reshape((probe_Expression_images.shape[0], -1))\n",
    "probe_Expression_labels = np.array(probe_Expression_labels)\n",
    "\n",
    "# 取前50个特征向量\n",
    "n_components = 50\n",
    "#   1. first substract the mean\n",
    "probe_Expression_images_mean = np.mean(probe_Expression_images, axis=0)\n",
    "probe_Expression_images_centered = probe_Expression_images - probe_Expression_images_mean\n",
    "#   2. then project onto a subspace of dimension `n_components` using `self.W_pca`\n",
    "probe_Expression_images_centered_proj = np.dot(probe_Expression_images_centered, eigenfaces[:, :n_components])\n",
    "assert probe_Expression_images_centered_proj.shape == (probe_Expression_images.shape[0], n_components)\n",
    "\n",
    "# Calculate Precision\n",
    "dists = np.zeros((probe_Expression_images_centered_proj.shape[0], gallery_images_centered_proj.shape[0]))\n",
    "dists += np.sum(probe_Expression_images_centered_proj * probe_Expression_images_centered_proj, axis=1, keepdims=True)\n",
    "dists += np.sum((gallery_images_centered_proj * gallery_images_centered_proj).T, axis=0, keepdims=True)\n",
    "dists -= 2 * np.dot(probe_Expression_images_centered_proj, gallery_images_centered_proj.T)\n",
    "# 根据距离矩阵选出最小的距离\n",
    "closest_prediciton = np.zeros((probe_Expression_images_centered_proj.shape[0], ))\n",
    "right_prediciton = 0\n",
    "for i in range(dists.shape[0]):\n",
    "    closest_prediciton[i] = gallery_labels[np.argmin(dists[i])]\n",
    "    if closest_prediciton[i] == probe_Expression_labels[i]:\n",
    "        right_prediciton += 1\n",
    "print(\"------------------Correct:  \", right_prediciton)\n",
    "print(\"------------------Sum:  \", dists.shape[0])\n",
    "print(\"------------------Precision:  \", right_prediciton / dists.shape[0])"
   ]
  },
  {
   "cell_type": "code",
   "execution_count": 4,
   "metadata": {},
   "outputs": [
    {
     "name": "stderr",
     "output_type": "stream",
     "text": [
      "C:\\ProgramData\\Anaconda3\\lib\\site-packages\\skimage\\external\\tifffile\\tifffile.py:2611: RuntimeWarning: py_decodelzw encountered unexpected end of stream\n",
      "  strip = decompress(strip)\n"
     ]
    },
    {
     "name": "stdout",
     "output_type": "stream",
     "text": [
      "------------------Correct:   60\n",
      "------------------Sum:   2243\n",
      "------------------Precision:   0.026749888542131076\n"
     ]
    }
   ],
   "source": [
    "'''\n",
    "    3.6 ==> Probe of Lighting\n",
    "'''\n",
    "\n",
    "probe_Lighting_paths = cas.load_Probe_Sets_image_name('Lighting')\n",
    "probe_Lighting_images = []\n",
    "probe_Lighting_labels = []\n",
    "for PATH in probe_Lighting_paths:\n",
    "    image = io.imread('C:\\\\Users\\\\吴宇翔\\\\Desktop\\\\CAS-PEAL-R1\\\\' + PATH)\n",
    "    probe_Lighting_images.append(image)\n",
    "    probe_Lighting_labels.append(int(PATH.split('_')[1]))\n",
    "probe_Lighting_images = np.array(probe_Lighting_images)\n",
    "probe_Lighting_images = probe_Lighting_images.reshape((probe_Lighting_images.shape[0], -1))\n",
    "probe_Lighting_labels = np.array(probe_Lighting_labels)\n",
    "\n",
    "# 取前50个特征向量\n",
    "n_components = 50\n",
    "#   1. first substract the mean\n",
    "probe_Lighting_images_centered = probe_Lighting_images - gallery_images_mean\n",
    "#   2. then project onto a subspace of dimension `n_components` using `self.W_pca`\n",
    "probe_Lighting_images_centered_proj = np.dot(probe_Lighting_images_centered, eigenfaces[:, :n_components])\n",
    "assert probe_Lighting_images_centered_proj.shape == (probe_Lighting_images.shape[0], n_components)\n",
    "\n",
    "# Calculate Precision\n",
    "dists = np.zeros((probe_Lighting_images_centered_proj.shape[0], gallery_images_centered_proj.shape[0]))\n",
    "dists += np.sum(probe_Lighting_images_centered_proj * probe_Lighting_images_centered_proj, axis=1, keepdims=True)\n",
    "dists += np.sum((gallery_images_centered_proj * gallery_images_centered_proj).T, axis=0, keepdims=True)\n",
    "dists -= 2 * np.dot(probe_Lighting_images_centered_proj, gallery_images_centered_proj.T)\n",
    "# 根据距离矩阵选出最小的距离\n",
    "closest_prediciton = np.zeros((probe_Lighting_images_centered_proj.shape[0], ))\n",
    "right_prediciton = 0\n",
    "for i in range(dists.shape[0]):\n",
    "    closest_prediciton[i] = gallery_labels[np.argmin(dists[i])]\n",
    "    if closest_prediciton[i] == probe_Lighting_labels[i]:\n",
    "        right_prediciton += 1\n",
    "print(\"------------------Correct:  \", right_prediciton)\n",
    "print(\"------------------Sum:  \", dists.shape[0])\n",
    "print(\"------------------Precision:  \", right_prediciton / dists.shape[0])"
   ]
  },
  {
   "cell_type": "code",
   "execution_count": null,
   "metadata": {
    "collapsed": true
   },
   "outputs": [],
   "source": []
  }
 ],
 "metadata": {
  "kernelspec": {
   "display_name": "Python 3",
   "language": "python",
   "name": "python3"
  },
  "language_info": {
   "codemirror_mode": {
    "name": "ipython",
    "version": 3
   },
   "file_extension": ".py",
   "mimetype": "text/x-python",
   "name": "python",
   "nbconvert_exporter": "python",
   "pygments_lexer": "ipython3",
   "version": "3.6.4"
  }
 },
 "nbformat": 4,
 "nbformat_minor": 2
}
